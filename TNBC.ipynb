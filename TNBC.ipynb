{
  "nbformat": 4,
  "nbformat_minor": 0,
  "metadata": {
    "colab": {
      "provenance": [],
      "authorship_tag": "ABX9TyOUgUNAKRSl04/XNByTMBv4",
      "include_colab_link": true
    },
    "kernelspec": {
      "name": "python3",
      "display_name": "Python 3"
    },
    "language_info": {
      "name": "python"
    }
  },
  "cells": [
    {
      "cell_type": "markdown",
      "metadata": {
        "id": "view-in-github",
        "colab_type": "text"
      },
      "source": [
        "<a href=\"https://colab.research.google.com/github/BharathiPriyadarshini/MLproject/blob/main/TNBC.ipynb\" target=\"_parent\"><img src=\"https://colab.research.google.com/assets/colab-badge.svg\" alt=\"Open In Colab\"/></a>"
      ]
    },
    {
      "cell_type": "code",
      "source": [
        "import pandas as pd\n",
        "\n",
        "# Load dataset\n",
        "file_path = \"/content/METABRIC_RNA_Mutation.csv\"  # Update if needed\n",
        "df = pd.read_csv(file_path, low_memory=False)\n",
        "\n",
        "# Display basic info\n",
        "print(\"✅ Dataset Loaded Successfully!\")\n",
        "print(\"\\n🔹 Dataset Shape:\", df.shape)  # Number of rows and columns\n",
        "print(\"\\n🔹 First 5 Rows:\\n\", df.head())  # Preview data\n",
        "print(\"\\n🔹 Column Names:\\n\", df.columns)  # List column names\n",
        "print(\"\\n🔹 Data Types:\\n\", df.dtypes)  # Check data types\n",
        "print(\"\\n🔹 Missing Values Per Column:\\n\", df.isnull().sum().sort_values(ascending=False))  # Check missing values\n",
        "print(\"\\n🔹 Summary Statistics:\\n\", df.describe())"
      ],
      "metadata": {
        "colab": {
          "base_uri": "https://localhost:8080/"
        },
        "id": "mawCcGafTSG0",
        "outputId": "5ceac3c1-c438-4b5c-8e26-e64f16e37c85"
      },
      "execution_count": null,
      "outputs": [
        {
          "output_type": "stream",
          "name": "stdout",
          "text": [
            "✅ Dataset Loaded Successfully!\n",
            "\n",
            "🔹 Dataset Shape: (1904, 693)\n",
            "\n",
            "🔹 First 5 Rows:\n",
            "    patient_id  age_at_diagnosis type_of_breast_surgery    cancer_type  \\\n",
            "0           0             75.65             MASTECTOMY  Breast Cancer   \n",
            "1           2             43.19      BREAST CONSERVING  Breast Cancer   \n",
            "2           5             48.87             MASTECTOMY  Breast Cancer   \n",
            "3           6             47.68             MASTECTOMY  Breast Cancer   \n",
            "4           8             76.97             MASTECTOMY  Breast Cancer   \n",
            "\n",
            "                        cancer_type_detailed cellularity  chemotherapy  \\\n",
            "0           Breast Invasive Ductal Carcinoma         NaN             0   \n",
            "1           Breast Invasive Ductal Carcinoma        High             0   \n",
            "2           Breast Invasive Ductal Carcinoma        High             1   \n",
            "3  Breast Mixed Ductal and Lobular Carcinoma    Moderate             1   \n",
            "4  Breast Mixed Ductal and Lobular Carcinoma        High             1   \n",
            "\n",
            "  pam50_+_claudin-low_subtype  cohort er_status_measured_by_ihc  ... mtap_mut  \\\n",
            "0                 claudin-low     1.0                   Positve  ...        0   \n",
            "1                        LumA     1.0                   Positve  ...        0   \n",
            "2                        LumB     1.0                   Positve  ...        0   \n",
            "3                        LumB     1.0                   Positve  ...        0   \n",
            "4                        LumB     1.0                   Positve  ...        0   \n",
            "\n",
            "   ppp2cb_mut smarcd1_mut nras_mut ndfip1_mut  hras_mut prps2_mut smarcb1_mut  \\\n",
            "0           0           0        0          0         0         0           0   \n",
            "1           0           0        0          0         0         0           0   \n",
            "2           0           0        0          0         0         0           0   \n",
            "3           0           0        0          0         0         0           0   \n",
            "4           0           0        0          0         0         0           0   \n",
            "\n",
            "  stmn2_mut  siah1_mut  \n",
            "0         0          0  \n",
            "1         0          0  \n",
            "2         0          0  \n",
            "3         0          0  \n",
            "4         0          0  \n",
            "\n",
            "[5 rows x 693 columns]\n",
            "\n",
            "🔹 Column Names:\n",
            " Index(['patient_id', 'age_at_diagnosis', 'type_of_breast_surgery',\n",
            "       'cancer_type', 'cancer_type_detailed', 'cellularity', 'chemotherapy',\n",
            "       'pam50_+_claudin-low_subtype', 'cohort', 'er_status_measured_by_ihc',\n",
            "       ...\n",
            "       'mtap_mut', 'ppp2cb_mut', 'smarcd1_mut', 'nras_mut', 'ndfip1_mut',\n",
            "       'hras_mut', 'prps2_mut', 'smarcb1_mut', 'stmn2_mut', 'siah1_mut'],\n",
            "      dtype='object', length=693)\n",
            "\n",
            "🔹 Data Types:\n",
            " patient_id                  int64\n",
            "age_at_diagnosis          float64\n",
            "type_of_breast_surgery     object\n",
            "cancer_type                object\n",
            "cancer_type_detailed       object\n",
            "                           ...   \n",
            "hras_mut                   object\n",
            "prps2_mut                  object\n",
            "smarcb1_mut                object\n",
            "stmn2_mut                  object\n",
            "siah1_mut                  object\n",
            "Length: 693, dtype: object\n",
            "\n",
            "🔹 Missing Values Per Column:\n",
            " tumor_stage                  501\n",
            "3-gene_classifier_subtype    204\n",
            "primary_tumor_laterality     106\n",
            "neoplasm_histologic_grade     72\n",
            "cellularity                   54\n",
            "                            ... \n",
            "mmp16                          0\n",
            "mmp17                          0\n",
            "mmp19                          0\n",
            "mmp2                           0\n",
            "mmp1                           0\n",
            "Length: 693, dtype: int64\n",
            "\n",
            "🔹 Summary Statistics:\n",
            "         patient_id  age_at_diagnosis  chemotherapy       cohort  \\\n",
            "count  1904.000000       1904.000000   1904.000000  1904.000000   \n",
            "mean   3921.982143         61.087054      0.207983     2.643908   \n",
            "std    2358.478332         12.978711      0.405971     1.228615   \n",
            "min       0.000000         21.930000      0.000000     1.000000   \n",
            "25%     896.500000         51.375000      0.000000     1.000000   \n",
            "50%    4730.500000         61.770000      0.000000     3.000000   \n",
            "75%    5536.250000         70.592500      0.000000     3.000000   \n",
            "max    7299.000000         96.290000      1.000000     5.000000   \n",
            "\n",
            "       neoplasm_histologic_grade  hormone_therapy  \\\n",
            "count                1832.000000      1904.000000   \n",
            "mean                    2.415939         0.616597   \n",
            "std                     0.650612         0.486343   \n",
            "min                     1.000000         0.000000   \n",
            "25%                     2.000000         0.000000   \n",
            "50%                     3.000000         1.000000   \n",
            "75%                     3.000000         1.000000   \n",
            "max                     3.000000         1.000000   \n",
            "\n",
            "       lymph_nodes_examined_positive  mutation_count  \\\n",
            "count                    1904.000000     1859.000000   \n",
            "mean                        2.002101        5.697687   \n",
            "std                         4.079993        4.058778   \n",
            "min                         0.000000        1.000000   \n",
            "25%                         0.000000        3.000000   \n",
            "50%                         0.000000        5.000000   \n",
            "75%                         2.000000        7.000000   \n",
            "max                        45.000000       80.000000   \n",
            "\n",
            "       nottingham_prognostic_index  overall_survival_months  ...  \\\n",
            "count                  1904.000000              1904.000000  ...   \n",
            "mean                      4.033019               125.121324  ...   \n",
            "std                       1.144492                76.334148  ...   \n",
            "min                       1.000000                 0.000000  ...   \n",
            "25%                       3.046000                60.825000  ...   \n",
            "50%                       4.042000               115.616667  ...   \n",
            "75%                       5.040250               184.716667  ...   \n",
            "max                       6.360000               355.200000  ...   \n",
            "\n",
            "             srd5a1        srd5a2        srd5a3           st7         star  \\\n",
            "count  1.904000e+03  1.904000e+03  1.904000e+03  1.904000e+03  1904.000000   \n",
            "mean   4.726891e-07 -3.676471e-07 -9.453782e-07 -1.050420e-07    -0.000002   \n",
            "std    1.000263e+00  1.000262e+00  1.000262e+00  1.000263e+00     1.000262   \n",
            "min   -2.120800e+00 -3.364800e+00 -2.719400e+00 -4.982700e+00    -2.981700   \n",
            "25%   -6.188500e-01 -6.104750e-01 -6.741750e-01 -6.136750e-01    -0.632900   \n",
            "50%   -2.456500e-01 -4.690000e-02 -1.422500e-01 -5.175000e-02    -0.026650   \n",
            "75%    3.306000e-01  5.144500e-01  5.146000e-01  5.787750e-01     0.590350   \n",
            "max    6.534900e+00  1.027030e+01  6.329000e+00  4.571300e+00    12.742300   \n",
            "\n",
            "               tnk2         tulp4       ugt2b15      ugt2b17        ugt2b7  \n",
            "count  1.904000e+03  1.904000e+03  1.904000e+03  1904.000000  1.904000e+03  \n",
            "mean   3.676471e-07  4.726891e-07  7.878151e-07     0.000000  3.731842e-18  \n",
            "std    1.000264e+00  1.000262e+00  1.000263e+00     1.000262  1.000262e+00  \n",
            "min   -3.833300e+00 -3.609300e+00 -1.166900e+00    -2.112600 -1.051600e+00  \n",
            "25%   -6.664750e-01 -7.102000e-01 -5.058250e-01    -0.476200 -7.260000e-01  \n",
            "50%    7.000000e-04 -2.980000e-02 -2.885500e-01    -0.133400 -4.248000e-01  \n",
            "75%    6.429000e-01  5.957250e-01  6.022500e-02     0.270375  4.284000e-01  \n",
            "max    3.938800e+00  3.833400e+00  1.088490e+01    12.643900  3.284400e+00  \n",
            "\n",
            "[8 rows x 503 columns]\n"
          ]
        }
      ]
    },
    {
      "cell_type": "code",
      "source": [
        "# Convert mutation columns to numeric (force errors to NaN)\n",
        "mutation_cols = ['hras_mut', 'prps2_mut', 'smarcb1_mut', 'stmn2_mut', 'siah1_mut']\n",
        "df[mutation_cols] = df[mutation_cols].apply(pd.to_numeric, errors='coerce')\n",
        "\n",
        "# Fill missing values\n",
        "df.fillna({\"cellularity\": \"Unknown\", \"tumor_stage\": \"Unknown\", \"primary_tumor_laterality\": \"Unknown\"}, inplace=True)\n",
        "\n",
        "# Drop columns with excessive missing values (e.g., more than 30%)\n",
        "missing_threshold = 0.3 * len(df)  # 30% of total rows\n",
        "df.dropna(thresh=missing_threshold, axis=1, inplace=True)\n",
        "\n",
        "# Display updated info\n",
        "print(\"\\n🔹 Updated Data Types:\\n\", df.dtypes)\n",
        "print(\"\\n🔹 Missing Values After Processing:\\n\", df.isnull().sum().sort_values(ascending=False))"
      ],
      "metadata": {
        "colab": {
          "base_uri": "https://localhost:8080/"
        },
        "id": "xP2WcQunTa0C",
        "outputId": "05daa98e-4169-4618-cb97-0ef53ba5a617"
      },
      "execution_count": null,
      "outputs": [
        {
          "output_type": "stream",
          "name": "stdout",
          "text": [
            "\n",
            "🔹 Updated Data Types:\n",
            " patient_id                  int64\n",
            "age_at_diagnosis          float64\n",
            "type_of_breast_surgery     object\n",
            "cancer_type                object\n",
            "cancer_type_detailed       object\n",
            "                           ...   \n",
            "hras_mut                  float64\n",
            "prps2_mut                 float64\n",
            "smarcb1_mut               float64\n",
            "stmn2_mut                 float64\n",
            "siah1_mut                 float64\n",
            "Length: 693, dtype: object\n",
            "\n",
            "🔹 Missing Values After Processing:\n",
            " 3-gene_classifier_subtype    204\n",
            "neoplasm_histologic_grade     72\n",
            "mutation_count                45\n",
            "er_status_measured_by_ihc     30\n",
            "type_of_breast_surgery        22\n",
            "                            ... \n",
            "mmp16                          0\n",
            "mmp17                          0\n",
            "mmp19                          0\n",
            "mmp2                           0\n",
            "mmp1                           0\n",
            "Length: 693, dtype: int64\n"
          ]
        }
      ]
    },
    {
      "cell_type": "code",
      "source": [
        "# Convert mutation columns from float64 to int64\n",
        "mutation_cols = ['hras_mut', 'prps2_mut', 'smarcb1_mut', 'stmn2_mut', 'siah1_mut']\n",
        "df[mutation_cols] = df[mutation_cols].astype('Int64')  # Keeps NaN support\n",
        "\n",
        "# Handle missing values\n",
        "df['neoplasm_histologic_grade'].fillna(df['neoplasm_histologic_grade'].mode()[0], inplace=True)\n",
        "df['mutation_count'].fillna(df['mutation_count'].median(), inplace=True)\n",
        "df['er_status_measured_by_ihc'].fillna(df['er_status_measured_by_ihc'].mode()[0], inplace=True)\n",
        "df['type_of_breast_surgery'].fillna(df['type_of_breast_surgery'].mode()[0], inplace=True)\n",
        "\n",
        "# Drop '3-gene_classifier_subtype' if it's not needed\n",
        "df.drop(columns=['3-gene_classifier_subtype'], inplace=True)\n",
        "\n",
        "# Display final missing values summary\n",
        "print(\"\\n🔹 Final Missing Values:\\n\", df.isnull().sum().sort_values(ascending=False))"
      ],
      "metadata": {
        "colab": {
          "base_uri": "https://localhost:8080/"
        },
        "id": "KZYdgtzsTetz",
        "outputId": "5974f585-1ba0-488b-880c-8902537ed295"
      },
      "execution_count": null,
      "outputs": [
        {
          "output_type": "stream",
          "name": "stdout",
          "text": [
            "\n",
            "🔹 Final Missing Values:\n",
            " tumor_size                        20\n",
            "oncotree_code                     15\n",
            "cancer_type_detailed              15\n",
            "tumor_other_histologic_subtype    15\n",
            "smarcb1_mut                        2\n",
            "                                  ..\n",
            "mmp11                              0\n",
            "mmp12                              0\n",
            "mmp13                              0\n",
            "mmp14                              0\n",
            "mapk7                              0\n",
            "Length: 692, dtype: int64\n"
          ]
        },
        {
          "output_type": "stream",
          "name": "stderr",
          "text": [
            "<ipython-input-3-92a826433608>:6: FutureWarning: A value is trying to be set on a copy of a DataFrame or Series through chained assignment using an inplace method.\n",
            "The behavior will change in pandas 3.0. This inplace method will never work because the intermediate object on which we are setting values always behaves as a copy.\n",
            "\n",
            "For example, when doing 'df[col].method(value, inplace=True)', try using 'df.method({col: value}, inplace=True)' or df[col] = df[col].method(value) instead, to perform the operation inplace on the original object.\n",
            "\n",
            "\n",
            "  df['neoplasm_histologic_grade'].fillna(df['neoplasm_histologic_grade'].mode()[0], inplace=True)\n",
            "<ipython-input-3-92a826433608>:7: FutureWarning: A value is trying to be set on a copy of a DataFrame or Series through chained assignment using an inplace method.\n",
            "The behavior will change in pandas 3.0. This inplace method will never work because the intermediate object on which we are setting values always behaves as a copy.\n",
            "\n",
            "For example, when doing 'df[col].method(value, inplace=True)', try using 'df.method({col: value}, inplace=True)' or df[col] = df[col].method(value) instead, to perform the operation inplace on the original object.\n",
            "\n",
            "\n",
            "  df['mutation_count'].fillna(df['mutation_count'].median(), inplace=True)\n",
            "<ipython-input-3-92a826433608>:8: FutureWarning: A value is trying to be set on a copy of a DataFrame or Series through chained assignment using an inplace method.\n",
            "The behavior will change in pandas 3.0. This inplace method will never work because the intermediate object on which we are setting values always behaves as a copy.\n",
            "\n",
            "For example, when doing 'df[col].method(value, inplace=True)', try using 'df.method({col: value}, inplace=True)' or df[col] = df[col].method(value) instead, to perform the operation inplace on the original object.\n",
            "\n",
            "\n",
            "  df['er_status_measured_by_ihc'].fillna(df['er_status_measured_by_ihc'].mode()[0], inplace=True)\n",
            "<ipython-input-3-92a826433608>:9: FutureWarning: A value is trying to be set on a copy of a DataFrame or Series through chained assignment using an inplace method.\n",
            "The behavior will change in pandas 3.0. This inplace method will never work because the intermediate object on which we are setting values always behaves as a copy.\n",
            "\n",
            "For example, when doing 'df[col].method(value, inplace=True)', try using 'df.method({col: value}, inplace=True)' or df[col] = df[col].method(value) instead, to perform the operation inplace on the original object.\n",
            "\n",
            "\n",
            "  df['type_of_breast_surgery'].fillna(df['type_of_breast_surgery'].mode()[0], inplace=True)\n"
          ]
        }
      ]
    },
    {
      "cell_type": "code",
      "source": [
        "# Convert mutation columns from float64 to int64\n",
        "mutation_cols = ['hras_mut', 'prps2_mut', 'smarcb1_mut', 'stmn2_mut', 'siah1_mut']\n",
        "df[mutation_cols] = df[mutation_cols].astype('Int64')  # Keeps NaN support\n",
        "\n",
        "# Fix missing values properly\n",
        "df['neoplasm_histologic_grade'] = df['neoplasm_histologic_grade'].fillna(df['neoplasm_histologic_grade'].mode()[0])\n",
        "df['mutation_count'] = df['mutation_count'].fillna(df['mutation_count'].median())\n",
        "df['er_status_measured_by_ihc'] = df['er_status_measured_by_ihc'].fillna(df['er_status_measured_by_ihc'].mode()[0])\n",
        "df['type_of_breast_surgery'] = df['type_of_breast_surgery'].fillna(df['type_of_breast_surgery'].mode()[0])\n",
        "\n",
        "# Handle remaining missing values\n",
        "for col in ['tumor_size', 'tumor_other_histologic_subtype', 'cancer_type_detailed', 'oncotree_code']:\n",
        "    df[col] = df[col].fillna(df[col].mode()[0])  # Fill with most common value\n",
        "\n",
        "# Display final missing values summary\n",
        "print(\"\\n✅ Final Missing Values:\\n\", df.isnull().sum().sort_values(ascending=False))\n"
      ],
      "metadata": {
        "colab": {
          "base_uri": "https://localhost:8080/"
        },
        "id": "T4F1Z_kAThjd",
        "outputId": "0f2eecd8-1a4a-4b03-97c3-8e5a41fce3dd"
      },
      "execution_count": null,
      "outputs": [
        {
          "output_type": "stream",
          "name": "stdout",
          "text": [
            "\n",
            "✅ Final Missing Values:\n",
            " stmn2_mut            2\n",
            "smarcb1_mut          2\n",
            "prps2_mut            2\n",
            "hras_mut             2\n",
            "death_from_cancer    1\n",
            "                    ..\n",
            "mmp1                 0\n",
            "mmp10                0\n",
            "mmp11                0\n",
            "mmp12                0\n",
            "mapk4                0\n",
            "Length: 692, dtype: int64\n"
          ]
        }
      ]
    },
    {
      "cell_type": "code",
      "source": [
        "# Fill remaining mutation columns with 0 (assuming missing means no mutation)\n",
        "mutation_cols = ['stmn2_mut', 'smarcb1_mut', 'prps2_mut', 'hras_mut', 'siah1_mut']\n",
        "df[mutation_cols] = df[mutation_cols].fillna(0).astype('Int64')  # Convert to integer\n",
        "\n",
        "# Final check\n",
        "print(\"\\n✅ Final Missing Values:\\n\", df.isnull().sum().sort_values(ascending=False))"
      ],
      "metadata": {
        "colab": {
          "base_uri": "https://localhost:8080/"
        },
        "id": "zsrMdL3bTj8n",
        "outputId": "1e5ad5f2-e1ed-4347-b1a9-e3f4e5bf00dc"
      },
      "execution_count": null,
      "outputs": [
        {
          "output_type": "stream",
          "name": "stdout",
          "text": [
            "\n",
            "✅ Final Missing Values:\n",
            " death_from_cancer    1\n",
            "usp9x                0\n",
            "utrn                 0\n",
            "zfp36l1              0\n",
            "ackr3                0\n",
            "                    ..\n",
            "mmp1                 0\n",
            "mmp10                0\n",
            "mmp11                0\n",
            "mmp12                0\n",
            "mapk4                0\n",
            "Length: 692, dtype: int64\n"
          ]
        }
      ]
    },
    {
      "cell_type": "code",
      "source": [
        "print(\"\\n🔹 Unique values in target column:\\n\", df[\"pam50_+_claudin-low_subtype\"].value_counts())\n"
      ],
      "metadata": {
        "colab": {
          "base_uri": "https://localhost:8080/"
        },
        "id": "XyVrYDBhVjvS",
        "outputId": "4e4098c7-841e-4183-919e-3b58d3dcf52a"
      },
      "execution_count": null,
      "outputs": [
        {
          "output_type": "stream",
          "name": "stdout",
          "text": [
            "\n",
            "🔹 Unique values in target column:\n",
            " pam50_+_claudin-low_subtype\n",
            "LumA           679\n",
            "LumB           461\n",
            "Her2           220\n",
            "claudin-low    199\n",
            "Basal          199\n",
            "Normal         140\n",
            "NC               6\n",
            "Name: count, dtype: int64\n"
          ]
        }
      ]
    },
    {
      "cell_type": "code",
      "source": [
        "# Create a binary target variable (1 for TNBC, 0 for Non-TNBC)\n",
        "df[\"tnbc_label\"] = (df[\"pam50_+_claudin-low_subtype\"] == \"Basal\").astype(int)\n",
        "\n",
        "# Now, use this new column as 'y'\n",
        "X = df.drop(columns=[\"pam50_+_claudin-low_subtype\", \"tnbc_label\"])  # Drop non-numeric columns\n",
        "y = df[\"tnbc_label\"]  # Use the new binary target\n",
        "\n",
        "print(\"\\n✅ Class Distribution (TNBC vs. Non-TNBC):\\n\", y.value_counts())"
      ],
      "metadata": {
        "colab": {
          "base_uri": "https://localhost:8080/"
        },
        "id": "XyicNSa7V7Jy",
        "outputId": "e5dce4d3-7c89-4bb5-cc7f-24cb1ee6cb26"
      },
      "execution_count": null,
      "outputs": [
        {
          "output_type": "stream",
          "name": "stdout",
          "text": [
            "\n",
            "✅ Class Distribution (TNBC vs. Non-TNBC):\n",
            " tnbc_label\n",
            "0    1705\n",
            "1     199\n",
            "Name: count, dtype: int64\n"
          ]
        }
      ]
    },
    {
      "cell_type": "code",
      "source": [
        "from sklearn.feature_selection import VarianceThreshold, SelectKBest, f_classif\n",
        "from sklearn.preprocessing import LabelEncoder\n",
        "import pandas as pd\n",
        "\n",
        "# Drop columns with NaN values\n",
        "X = X.dropna(axis=1)\n",
        "\n",
        "# Identify categorical columns\n",
        "categorical_cols = X.select_dtypes(include=['object']).columns\n",
        "\n",
        "# Convert mixed-type columns to string\n",
        "X[categorical_cols] = X[categorical_cols].astype(str)\n",
        "\n",
        "# Apply Label Encoding to categorical columns\n",
        "label_encoders = {}\n",
        "for col in categorical_cols:\n",
        "    le = LabelEncoder()\n",
        "    X[col] = le.fit_transform(X[col])\n",
        "    label_encoders[col] = le  # Store encoder for future use\n",
        "\n",
        "# Now remove constant features (zero variance)\n",
        "variance_filter = VarianceThreshold(threshold=0)\n",
        "X = pd.DataFrame(variance_filter.fit_transform(X), columns=X.columns[variance_filter.get_support()])\n",
        "\n",
        "print(\"✅ Constant features removed. Remaining features:\", X.shape[1])\n",
        "\n",
        "# Apply SelectKBest to choose the top 10 features\n",
        "selector = SelectKBest(score_func=f_classif, k=10)\n",
        "X_selected = selector.fit_transform(X, y)\n",
        "\n",
        "# Get selected feature names\n",
        "selected_features = X.columns[selector.get_support()]\n",
        "print(\"✅ Selected Features:\\n\", selected_features)\n"
      ],
      "metadata": {
        "colab": {
          "base_uri": "https://localhost:8080/"
        },
        "id": "ZO9XO9YeWAxs",
        "outputId": "9958ce87-e9d5-4183-e35d-0db48480344a"
      },
      "execution_count": null,
      "outputs": [
        {
          "output_type": "stream",
          "name": "stderr",
          "text": [
            "<ipython-input-8-514fcf16a38f>:12: SettingWithCopyWarning: \n",
            "A value is trying to be set on a copy of a slice from a DataFrame.\n",
            "Try using .loc[row_indexer,col_indexer] = value instead\n",
            "\n",
            "See the caveats in the documentation: https://pandas.pydata.org/pandas-docs/stable/user_guide/indexing.html#returning-a-view-versus-a-copy\n",
            "  X[categorical_cols] = X[categorical_cols].astype(str)\n"
          ]
        },
        {
          "output_type": "stream",
          "name": "stdout",
          "text": [
            "✅ Constant features removed. Remaining features: 685\n",
            "✅ Selected Features:\n",
            " Index(['er_status_measured_by_ihc', 'er_status', 'ccne1', 'cdc25a', 'cdkn2a',\n",
            "       'e2f3', 'chek1', 'gata3', 'map2', 'ttyh1'],\n",
            "      dtype='object')\n"
          ]
        }
      ]
    },
    {
      "cell_type": "code",
      "source": [
        "from sklearn.model_selection import train_test_split\n",
        "from sklearn.linear_model import LogisticRegression\n",
        "from sklearn.metrics import accuracy_score, classification_report\n",
        "\n",
        "# Split data into training and test sets\n",
        "X_train, X_test, y_train, y_test = train_test_split(X_selected, y, test_size=0.2, random_state=42)\n",
        "\n",
        "# Train Logistic Regression model\n",
        "log_reg = LogisticRegression(max_iter=500)\n",
        "log_reg.fit(X_train, y_train)\n",
        "\n",
        "# Predict on test set\n",
        "y_pred = log_reg.predict(X_test)\n",
        "\n",
        "# Evaluate model\n",
        "print(\"✅ Logistic Regression Model Performance:\")\n",
        "print(\"Accuracy:\", accuracy_score(y_test, y_pred))\n",
        "print(classification_report(y_test, y_pred))"
      ],
      "metadata": {
        "colab": {
          "base_uri": "https://localhost:8080/"
        },
        "id": "ldpKvL2fXN50",
        "outputId": "f3259813-787b-44ab-83f2-0295f89ffa7f"
      },
      "execution_count": null,
      "outputs": [
        {
          "output_type": "stream",
          "name": "stdout",
          "text": [
            "✅ Logistic Regression Model Performance:\n",
            "Accuracy: 0.9238845144356955\n",
            "              precision    recall  f1-score   support\n",
            "\n",
            "           0       0.95      0.97      0.96       344\n",
            "           1       0.64      0.49      0.55        37\n",
            "\n",
            "    accuracy                           0.92       381\n",
            "   macro avg       0.79      0.73      0.76       381\n",
            "weighted avg       0.92      0.92      0.92       381\n",
            "\n"
          ]
        }
      ]
    },
    {
      "cell_type": "code",
      "source": [
        "from imblearn.over_sampling import SMOTE\n",
        "from sklearn.linear_model import LogisticRegression\n",
        "from sklearn.preprocessing import StandardScaler\n",
        "from sklearn.metrics import classification_report, accuracy_score\n",
        "from sklearn.model_selection import train_test_split\n",
        "\n",
        "# 1️⃣ Split the dataset before applying SMOTE\n",
        "X_train, X_test, y_train, y_test = train_test_split(X, y, test_size=0.2, random_state=42, stratify=y)\n",
        "\n",
        "# 2️⃣ Apply SMOTE only on training data\n",
        "smote = SMOTE(random_state=42)\n",
        "X_train_balanced, y_train_balanced = smote.fit_resample(X_train, y_train)\n",
        "\n",
        "# 🔹 NEW: Standardize features (Scaling)\n",
        "scaler = StandardScaler()\n",
        "X_train_balanced = scaler.fit_transform(X_train_balanced)  # Fit & transform train data\n",
        "X_test = scaler.transform(X_test)  # Transform test data (DO NOT fit again)\n",
        "\n",
        "# Check new class distribution\n",
        "print(\"✅ Class Distribution After SMOTE:\\n\", pd.Series(y_train_balanced).value_counts())\n",
        "\n",
        "# 3️⃣ Train Logistic Regression on balanced & scaled data\n",
        "logreg = LogisticRegression(max_iter=5000, class_weight=\"balanced\", random_state=42)\n",
        "logreg.fit(X_train_balanced, y_train_balanced)\n",
        "\n",
        "# 4️⃣ Test on the original test set (scaled)\n",
        "y_pred_logreg = logreg.predict(X_test)\n",
        "\n",
        "# 5️⃣ Evaluate performance\n",
        "print(\"✅ Logistic Regression Model Performance:\")\n",
        "print(\"Accuracy:\", accuracy_score(y_test, y_pred_logreg))\n",
        "print(classification_report(y_test, y_pred_logreg))"
      ],
      "metadata": {
        "colab": {
          "base_uri": "https://localhost:8080/"
        },
        "id": "PD7BWJhaXxKC",
        "outputId": "ac50ea5c-6002-4b5c-9e13-628986f9f251"
      },
      "execution_count": null,
      "outputs": [
        {
          "output_type": "stream",
          "name": "stdout",
          "text": [
            "✅ Class Distribution After SMOTE:\n",
            " tnbc_label\n",
            "0    1364\n",
            "1    1364\n",
            "Name: count, dtype: int64\n",
            "✅ Logistic Regression Model Performance:\n",
            "Accuracy: 0.9291338582677166\n",
            "              precision    recall  f1-score   support\n",
            "\n",
            "           0       0.96      0.96      0.96       341\n",
            "           1       0.67      0.65      0.66        40\n",
            "\n",
            "    accuracy                           0.93       381\n",
            "   macro avg       0.81      0.81      0.81       381\n",
            "weighted avg       0.93      0.93      0.93       381\n",
            "\n"
          ]
        }
      ]
    },
    {
      "cell_type": "code",
      "source": [
        "from sklearn.ensemble import RandomForestClassifier\n",
        "from sklearn.metrics import classification_report, accuracy_score\n",
        "\n",
        "# 1️⃣ Train Random Forest on balanced data\n",
        "rf = RandomForestClassifier(n_estimators=100, random_state=42, class_weight=\"balanced\")\n",
        "rf.fit(X_train_balanced, y_train_balanced)\n",
        "\n",
        "# 2️⃣ Test on original test set\n",
        "y_pred_rf = rf.predict(X_test)\n",
        "\n",
        "# 3️⃣ Evaluate performance\n",
        "print(\"✅ Random Forest Model Performance:\")\n",
        "print(\"Accuracy:\", accuracy_score(y_test, y_pred_rf))\n",
        "print(classification_report(y_test, y_pred_rf))"
      ],
      "metadata": {
        "colab": {
          "base_uri": "https://localhost:8080/"
        },
        "id": "qdZTKohrZFog",
        "outputId": "0543d890-0dd6-4580-e50a-f39d7b4ed7a5"
      },
      "execution_count": null,
      "outputs": [
        {
          "output_type": "stream",
          "name": "stdout",
          "text": [
            "✅ Random Forest Model Performance:\n",
            "Accuracy: 0.9606299212598425\n",
            "              precision    recall  f1-score   support\n",
            "\n",
            "           0       0.97      0.98      0.98       341\n",
            "           1       0.84      0.78      0.81        40\n",
            "\n",
            "    accuracy                           0.96       381\n",
            "   macro avg       0.91      0.88      0.89       381\n",
            "weighted avg       0.96      0.96      0.96       381\n",
            "\n"
          ]
        }
      ]
    },
    {
      "cell_type": "code",
      "source": [
        "from sklearn.svm import SVC\n",
        "from sklearn.preprocessing import StandardScaler\n",
        "from sklearn.pipeline import Pipeline\n",
        "\n",
        "# 1️⃣ Create an SVM pipeline with Standardization\n",
        "svm_model = Pipeline([\n",
        "    ('scaler', StandardScaler()),  # Feature Scaling\n",
        "    ('svm', SVC(kernel='linear', class_weight='balanced', random_state=42))\n",
        "])\n",
        "\n",
        "# 2️⃣ Train on the SMOTE-balanced dataset\n",
        "svm_model.fit(X_train_balanced, y_train_balanced)\n",
        "\n",
        "# 3️⃣ Predict on the original test set\n",
        "y_pred_svm = svm_model.predict(X_test)\n",
        "\n",
        "# 4️⃣ Evaluate performance\n",
        "print(\"✅ SVM (Linear) Model Performance:\")\n",
        "print(\"Accuracy:\", accuracy_score(y_test, y_pred_svm))\n",
        "print(classification_report(y_test, y_pred_svm))"
      ],
      "metadata": {
        "colab": {
          "base_uri": "https://localhost:8080/"
        },
        "id": "JADyHRKzZp6x",
        "outputId": "f3d2e284-8e83-4b48-8f4d-c34fa741bc4b"
      },
      "execution_count": null,
      "outputs": [
        {
          "output_type": "stream",
          "name": "stdout",
          "text": [
            "✅ SVM (Linear) Model Performance:\n",
            "Accuracy: 0.9291338582677166\n",
            "              precision    recall  f1-score   support\n",
            "\n",
            "           0       0.95      0.97      0.96       341\n",
            "           1       0.69      0.60      0.64        40\n",
            "\n",
            "    accuracy                           0.93       381\n",
            "   macro avg       0.82      0.78      0.80       381\n",
            "weighted avg       0.93      0.93      0.93       381\n",
            "\n"
          ]
        }
      ]
    },
    {
      "cell_type": "code",
      "source": [
        "from sklearn.linear_model import LogisticRegression\n",
        "\n",
        "lasso = LogisticRegression(penalty=\"l1\", solver=\"liblinear\", max_iter=5000)\n",
        "lasso.fit(X_train_balanced, y_train_balanced)\n",
        "\n",
        "y_pred_lasso = lasso.predict(X_test)\n",
        "\n",
        "print(\"✅ Lasso Logistic Regression Performance:\")\n",
        "print(\"Accuracy:\", accuracy_score(y_test, y_pred_lasso))\n",
        "print(classification_report(y_test, y_pred_lasso))"
      ],
      "metadata": {
        "colab": {
          "base_uri": "https://localhost:8080/"
        },
        "id": "9nT1zp8maNub",
        "outputId": "f2d845bf-7882-4e1a-b71f-f8d43f08987f"
      },
      "execution_count": null,
      "outputs": [
        {
          "output_type": "stream",
          "name": "stdout",
          "text": [
            "✅ Lasso Logistic Regression Performance:\n",
            "Accuracy: 0.9343832020997376\n",
            "              precision    recall  f1-score   support\n",
            "\n",
            "           0       0.97      0.96      0.96       341\n",
            "           1       0.67      0.75      0.71        40\n",
            "\n",
            "    accuracy                           0.93       381\n",
            "   macro avg       0.82      0.85      0.83       381\n",
            "weighted avg       0.94      0.93      0.94       381\n",
            "\n"
          ]
        }
      ]
    },
    {
      "cell_type": "code",
      "source": [
        "from sklearn.linear_model import RidgeClassifier\n",
        "\n",
        "ridge = RidgeClassifier(alpha=1.0)  # Alpha controls the regularization strength\n",
        "ridge.fit(X_train_balanced, y_train_balanced)\n",
        "\n",
        "y_pred_ridge = ridge.predict(X_test)\n",
        "\n",
        "print(\"✅ Ridge Classifier Performance:\")\n",
        "print(\"Accuracy:\", accuracy_score(y_test, y_pred_ridge))\n",
        "print(classification_report(y_test, y_pred_ridge))\n"
      ],
      "metadata": {
        "colab": {
          "base_uri": "https://localhost:8080/"
        },
        "id": "HffIUdQcaQOU",
        "outputId": "0173c7d4-3239-4bbc-b44d-e5e8c71ee643"
      },
      "execution_count": null,
      "outputs": [
        {
          "output_type": "stream",
          "name": "stdout",
          "text": [
            "✅ Ridge Classifier Performance:\n",
            "Accuracy: 0.9028871391076115\n",
            "              precision    recall  f1-score   support\n",
            "\n",
            "           0       0.96      0.94      0.95       341\n",
            "           1       0.53      0.62      0.57        40\n",
            "\n",
            "    accuracy                           0.90       381\n",
            "   macro avg       0.74      0.78      0.76       381\n",
            "weighted avg       0.91      0.90      0.91       381\n",
            "\n"
          ]
        }
      ]
    }
  ]
}